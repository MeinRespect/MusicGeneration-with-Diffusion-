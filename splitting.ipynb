{
  "nbformat": 4,
  "nbformat_minor": 0,
  "metadata": {
    "colab": {
      "provenance": []
    },
    "kernelspec": {
      "name": "python3",
      "display_name": "Python 3"
    },
    "language_info": {
      "name": "python"
    }
  },
  "cells": [
    {
      "cell_type": "code",
      "source": [
        "import os\n",
        "! mkdir output\n",
        "! mkdir input"
      ],
      "metadata": {
        "id": "xc9JlqTr-hM7"
      },
      "execution_count": null,
      "outputs": []
    },
    {
      "cell_type": "code",
      "execution_count": null,
      "metadata": {
        "id": "MmsVsVKT-Erq"
      },
      "outputs": [],
      "source": [
        "import os\n",
        "import subprocess\n",
        "\n",
        "# Имя папки с входными файлами\n",
        "input_folder = 'input'\n",
        "\n",
        "# Имя папки для сохранения выходных файлов\n",
        "output_folder = 'output'\n",
        "\n",
        "# Цикл по всем файлам в папке input\n",
        "for file in os.listdir(input_folder):\n",
        "    # Формируем пути к входному и выходному файлам\n",
        "    input_path = os.path.join(input_folder, file)\n",
        "    output_path = os.path.join(output_folder, file)\n",
        "\n",
        "    # Вызываем ffmpeg с нужными опциями\n",
        "    subprocess.run(['ffmpeg', '-i', input_path, '-f', 'segment', '-segment_time', '5', 'output/out%03d.mp3'])\n"
      ]
    },
    {
      "cell_type": "code",
      "source": [
        "import shutil\n",
        "folder_name = \"output\"\n",
        "archive_name = \"outputsongs\"\n",
        "\n",
        "# create zip\n",
        "shutil.make_archive(archive_name, \"zip\", folder_name)"
      ],
      "metadata": {
        "colab": {
          "base_uri": "https://localhost:8080/",
          "height": 35
        },
        "id": "J0zd30t7_vV5",
        "outputId": "639a47f8-243e-4ec5-fa51-cc881723e315"
      },
      "execution_count": null,
      "outputs": [
        {
          "output_type": "execute_result",
          "data": {
            "text/plain": [
              "'/content/outputsongs.zip'"
            ],
            "application/vnd.google.colaboratory.intrinsic+json": {
              "type": "string"
            }
          },
          "metadata": {},
          "execution_count": 10
        }
      ]
    }
  ]
}