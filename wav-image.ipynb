{
  "cells": [
    {
      "cell_type": "code",
      "execution_count": null,
      "metadata": {
        "colab": {
          "base_uri": "https://localhost:8080/"
        },
        "id": "uC4S2z53ppWX",
        "outputId": "eb76692c-12d9-441b-ffc7-af3b8e089501"
      },
      "outputs": [
        {
          "output_type": "stream",
          "name": "stdout",
          "text": [
            "Cloning into 'riffusion-manipulation'...\n",
            "remote: Enumerating objects: 130, done.\u001b[K\n",
            "remote: Counting objects: 100% (130/130), done.\u001b[K\n",
            "remote: Compressing objects: 100% (118/118), done.\u001b[K\n",
            "remote: Total 130 (delta 19), reused 116 (delta 11), pack-reused 0\u001b[K\n",
            "Receiving objects: 100% (130/130), 23.28 MiB | 36.79 MiB/s, done.\n",
            "Resolving deltas: 100% (19/19), done.\n"
          ]
        }
      ],
      "source": [
        "!git clone https://github.com/chavinlo/riffusion-manipulation.git"
      ]
    },
    {
      "cell_type": "code",
      "execution_count": null,
      "metadata": {
        "colab": {
          "base_uri": "https://localhost:8080/"
        },
        "id": "RLyXt-yiv-cv",
        "outputId": "e0a2944e-ea61-40f3-df62-9c97bf84da6f"
      },
      "outputs": [
        {
          "output_type": "stream",
          "name": "stdout",
          "text": [
            "Looking in indexes: https://pypi.org/simple, https://us-python.pkg.dev/colab-wheels/public/simple/\n",
            "Collecting pydub\n",
            "  Downloading pydub-0.25.1-py2.py3-none-any.whl (32 kB)\n",
            "Installing collected packages: pydub\n",
            "Successfully installed pydub-0.25.1\n"
          ]
        }
      ],
      "source": [
        "!pip3 install pydub"
      ]
    },
    {
      "cell_type": "code",
      "execution_count": null,
      "metadata": {
        "colab": {
          "base_uri": "https://localhost:8080/"
        },
        "id": "j8IReQwIvdHN",
        "outputId": "5102eff4-8b66-4cef-fe5c-e8b875a0690e"
      },
      "outputs": [
        {
          "name": "stdout",
          "output_type": "stream",
          "text": [
            "Traceback (most recent call last):\n",
            "  File \"riffusion-manipulation/file2img.py\", line 217, in <module>\n",
            "    spectrogram_images = spectrogram_images_from_file(\n",
            "  File \"riffusion-manipulation/file2img.py\", line 142, in spectrogram_images_from_file\n",
            "    audio = pydub.AudioSegment.from_file(filename)\n",
            "  File \"/usr/local/lib/python3.8/dist-packages/pydub/audio_segment.py\", line 651, in from_file\n",
            "    file, close_file = _fd_or_path_or_tempfile(file, 'rb', tempfile=False)\n",
            "  File \"/usr/local/lib/python3.8/dist-packages/pydub/utils.py\", line 60, in _fd_or_path_or_tempfile\n",
            "    fd = open(fd, mode=mode)\n",
            "IsADirectoryError: [Errno 21] Is a directory: '/content/'\n"
          ]
        }
      ],
      "source": [
        "!python3 riffusion-manipulation/file2img.py -i /content/104_129578_000002_000002.wav -o /content/ff.jpeg"
      ]
    },
    {
      "cell_type": "code",
      "execution_count": null,
      "metadata": {
        "id": "9rUPx1adEgBg"
      },
      "outputs": [],
      "source": [
        "#bulk conversion of files from a folder to spectrograms\n",
        "import os\n",
        "import subprocess\n",
        "! mkdir input\n",
        "! mkdir output\n",
        "\n",
        "# Folder name with wav files\n",
        "folder_name = \"input\"\n",
        "\n",
        "# Loop through all the files in the folder\n",
        "for filename in os.listdir(folder_name):\n",
        "    # Check if the file is a wav file\n",
        "    if filename.endswith(\".wav\"):\n",
        "        # Form the full path to the file\n",
        "        file_path = os.path.join(folder_name, filename)\n",
        "        # Form a command to run\n",
        "        command = f\"python3 riffusion-manipulation/file2img.py -i {file_path} -o /content/output\"\n",
        "        # Execute the command using the subprocess.run function\n",
        "        subprocess.run(command, shell=True)\n"
      ]
    },
    {
      "cell_type": "code",
      "execution_count": null,
      "metadata": {
        "id": "ozcSzd-5QJ0v"
      },
      "outputs": [],
      "source": [
        "!python3 riffusion-manipulation/img2audio.py -i /content/tes47t-transformed-transformed.jpeg -o /content/songINFER.wav"
      ]
    }
  ],
  "metadata": {
    "accelerator": "GPU",
    "colab": {
      "provenance": []
    },
    "gpuClass": "standard",
    "kernelspec": {
      "display_name": "Python 3",
      "name": "python3"
    },
    "language_info": {
      "name": "python"
    }
  },
  "nbformat": 4,
  "nbformat_minor": 0
}