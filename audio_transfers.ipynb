{
  "nbformat": 4,
  "nbformat_minor": 0,
  "metadata": {
    "colab": {
      "provenance": []
    },
    "kernelspec": {
      "name": "python3",
      "display_name": "Python 3"
    },
    "language_info": {
      "name": "python"
    },
    "accelerator": "GPU",
    "gpuClass": "standard"
  },
  "cells": [
    {
      "cell_type": "code",
      "source": [
        "!git clone https://github.com/chavinlo/riffusion-manipulation.git"
      ],
      "metadata": {
        "id": "e9jp0cRwP00W",
        "colab": {
          "base_uri": "https://localhost:8080/"
        },
        "outputId": "41d3bcee-3e7a-43c7-ab4a-49bbef67403f"
      },
      "execution_count": null,
      "outputs": [
        {
          "output_type": "stream",
          "name": "stdout",
          "text": [
            "Cloning into 'riffusion-manipulation'...\n",
            "remote: Enumerating objects: 137, done.\u001b[K\n",
            "remote: Counting objects: 100% (137/137), done.\u001b[K\n",
            "remote: Compressing objects: 100% (125/125), done.\u001b[K\n",
            "remote: Total 137 (delta 23), reused 113 (delta 11), pack-reused 0\u001b[K\n",
            "Receiving objects: 100% (137/137), 23.29 MiB | 28.22 MiB/s, done.\n",
            "Resolving deltas: 100% (23/23), done.\n"
          ]
        }
      ]
    },
    {
      "cell_type": "code",
      "source": [
        "!pip3 install pydub"
      ],
      "metadata": {
        "colab": {
          "base_uri": "https://localhost:8080/"
        },
        "id": "Oec3LyI_lTop",
        "outputId": "fcfe2906-3993-417c-c367-4542735db4a4"
      },
      "execution_count": null,
      "outputs": [
        {
          "output_type": "stream",
          "name": "stdout",
          "text": [
            "Looking in indexes: https://pypi.org/simple, https://us-python.pkg.dev/colab-wheels/public/simple/\n",
            "Collecting pydub\n",
            "  Downloading pydub-0.25.1-py2.py3-none-any.whl (32 kB)\n",
            "Installing collected packages: pydub\n",
            "Successfully installed pydub-0.25.1\n"
          ]
        }
      ]
    },
    {
      "cell_type": "code",
      "source": [
        "import zipfile\n",
        "with zipfile.ZipFile('/content/ready_images_2.zip', 'r') as zip_ref:\n",
        "    zip_ref.extractall('ready_images')"
      ],
      "metadata": {
        "id": "QEGsAr-fXGbh"
      },
      "execution_count": null,
      "outputs": []
    },
    {
      "cell_type": "code",
      "execution_count": null,
      "metadata": {
        "id": "g47v3U9CPQO6"
      },
      "outputs": [],
      "source": [
        "import os\n",
        "from PIL import Image\n",
        " \n",
        "# Имя папки с исходными изображениями\n",
        "input_folder = '/content/ready_images'\n",
        " \n",
        "# Имя папки для сжатых изображений\n",
        "output_folder = 'output'\n",
        " \n",
        "# Создаём папку для сжатых изображений, если она не существует\n",
        "if not os.path.exists(output_folder):\n",
        "    os.makedirs(output_folder)\n",
        " \n",
        "# Перебираем все файлы в папке с исходными изображениями\n",
        "for file in os.listdir(input_folder):\n",
        "    # Игнорируем файлы, которые не являются изображениями\n",
        "    if not file.endswith('.jpg') and not file.endswith('.png'):\n",
        "        continue\n",
        " \n",
        "    # Открываем изображение\n",
        "    image = Image.open(os.path.join(input_folder, file))\n",
        " \n",
        "    # Сжимаем изображение до размера 512 x 512 пикселей\n",
        "    image = image.resize((512, 512))\n",
        " \n",
        "    # Сохраняем сжатое изображение в папку output\n",
        "    image.save(os.path.join(output_folder, file))"
      ]
    },
    {
      "cell_type": "code",
      "source": [
        "input_dir = \"/content/output\"\n",
        "output_dir = \"/content/audio\"\n",
        "import os\n",
        "\n",
        "for filename in os.listdir(input_dir):\n",
        "    # Check if file is an image\n",
        "    if filename.endswith(\".jpg\") or filename.endswith(\".png\"):\n",
        "        # Set input and output paths\n",
        "        input_path = os.path.join(input_dir, filename)\n",
        "        output_path = output_dir + '/' + filename.replace(\".jpg\", \".wav\").replace(\".png\", \".wav\")\n",
        "        # Run img2audio.py script\n",
        "        \n",
        "        !python3 riffusion-manipulation/img2audio.py -i {input_path} -o {output_path}"
      ],
      "metadata": {
        "id": "DiBzbEV5XgQR",
        "colab": {
          "base_uri": "https://localhost:8080/"
        },
        "outputId": "b26c9e10-7988-419a-8c38-092a7d36f8bc"
      },
      "execution_count": null,
      "outputs": [
        {
          "output_type": "stream",
          "name": "stdout",
          "text": [
            "/bin/bash: -c: line 0: syntax error near unexpected token `('\n",
            "/bin/bash: -c: line 0: `python3 riffusion-manipulation/img2audio.py -i /content/output/19 (2).jpg -o /content/audio/19 (2).wav'\n",
            "/bin/bash: -c: line 0: syntax error near unexpected token `('\n",
            "/bin/bash: -c: line 0: `python3 riffusion-manipulation/img2audio.py -i /content/output/9 (4).jpg -o /content/audio/9 (4).wav'\n",
            "Traceback (most recent call last):\n",
            "  File \"/content/riffusion-manipulation/img2audio.py\", line 155, in <module>\n",
            "    wav_bytes, duration_s = wav_bytes_from_spectrogram_image(image, duration=int(args.duration), nmels=int(args.nmels), maxvol=int(args.maxvol), power_for_image=float(args.powerforimage))\n",
            "  File \"/content/riffusion-manipulation/img2audio.py\", line 112, in wav_bytes_from_spectrogram_image\n",
            "    samples = waveform_from_spectrogram(\n",
            "  File \"/content/riffusion-manipulation/img2audio.py\", line 72, in waveform_from_spectrogram\n",
            "    Sxx_torch = mel_inv_scaler(Sxx_torch)\n",
            "  File \"/usr/local/lib/python3.9/dist-packages/torch/nn/modules/module.py\", line 1501, in _call_impl\n",
            "    return forward_call(*args, **kwargs)\n",
            "  File \"/usr/local/lib/python3.9/dist-packages/torchaudio/transforms/_transforms.py\", line 523, in forward\n",
            "    new_loss = new_loss.item()\n",
            "KeyboardInterrupt\n",
            "^C\n",
            "Traceback (most recent call last):\n",
            "  File \"/content/riffusion-manipulation/img2audio.py\", line 155, in <module>\n",
            "    wav_bytes, duration_s = wav_bytes_from_spectrogram_image(image, duration=int(args.duration), nmels=int(args.nmels), maxvol=int(args.maxvol), power_for_image=float(args.powerforimage))\n",
            "  File \"/content/riffusion-manipulation/img2audio.py\", line 93, in wav_bytes_from_spectrogram_image\n",
            "    Sxx = spectrogram_from_image(image, max_volume=max_volume, power_for_image=power_for_image)\n",
            "  File \"/content/riffusion-manipulation/img2audio.py\", line 23, in spectrogram_from_image\n",
            "    data = np.array(image).astype(np.float32)\n",
            "  File \"/usr/local/lib/python3.9/dist-packages/PIL/Image.py\", line 698, in __array__\n",
            "    new[\"data\"] = self.tobytes()\n",
            "  File \"/usr/local/lib/python3.9/dist-packages/PIL/Image.py\", line 744, in tobytes\n",
            "    self.load()\n",
            "  File \"/usr/local/lib/python3.9/dist-packages/PIL/ImageFile.py\", line 255, in load\n",
            "    n, err_code = decoder.decode(b)\n",
            "KeyboardInterrupt\n",
            "^C\n",
            "Traceback (most recent call last):\n",
            "  File \"/content/riffusion-manipulation/img2audio.py\", line 8, in <module>\n",
            "    import torch\n",
            "  File \"/usr/local/lib/python3.9/dist-packages/torch/__init__.py\", line 1244, in <module>\n",
            "    from torch import distributions as distributions\n",
            "  File \"/usr/local/lib/python3.9/dist-packages/torch/distributions/__init__.py\", line 88, in <module>\n",
            "  File \"/usr/local/lib/python3.9/dist-packages/torch/distributions/geometric.py\", line 11, in <module>\n",
            "    class Geometric(Distribution):\n",
            "  File \"/usr/local/lib/python3.9/dist-packages/torch/distributions/geometric.py\", line 81, in Geometric\n",
            "    def variance(self):\n",
            "KeyboardInterrupt\n",
            "^C\n",
            "Traceback (most recent call last):\n",
            "  File \"/content/riffusion-manipulation/img2audio.py\", line 8, in <module>\n",
            "    import torch\n",
            "  File \"/usr/local/lib/python3.9/dist-packages/torch/__init__.py\", line 1465, in <module>\n",
            "    from . import _meta_registrations\n",
            "  File \"/usr/local/lib/python3.9/dist-packages/torch/_meta_registrations.py\", line 7, in <module>\n",
            "    from torch._decomp import _add_op_to_registry, global_decomposition_table, meta_table\n",
            "  File \"/usr/local/lib/python3.9/dist-packages/torch/_decomp/__init__.py\", line 169, in <module>\n",
            "    import torch._decomp.decompositions\n",
            "  File \"/usr/local/lib/python3.9/dist-packages/torch/_decomp/decompositions.py\", line 10, in <module>\n",
            "    import torch._prims as prims\n",
            "  File \"/usr/local/lib/python3.9/dist-packages/torch/_prims/__init__.py\", line 33, in <module>\n",
            "    from torch._subclasses.fake_tensor import FakeTensor, FakeTensorMode\n",
            "  File \"/usr/local/lib/python3.9/dist-packages/torch/_subclasses/__init__.py\", line 3, in <module>\n",
            "    from torch._subclasses.fake_tensor import (\n",
            "  File \"/usr/local/lib/python3.9/dist-packages/torch/_subclasses/fake_tensor.py\", line 13, in <module>\n",
            "    from torch._guards import Source\n",
            "  File \"/usr/local/lib/python3.9/dist-packages/torch/_guards.py\", line 14, in <module>\n",
            "    import sympy  # type: ignore[import]\n",
            "  File \"/usr/local/lib/python3.9/dist-packages/sympy/__init__.py\", line 51, in <module>\n",
            "    from .core import (sympify, SympifyError, cacheit, Basic, Atom,\n",
            "  File \"/usr/local/lib/python3.9/dist-packages/sympy/core/__init__.py\", line 9, in <module>\n",
            "    from .expr import Expr, AtomicExpr, UnevaluatedExpr\n",
            "  File \"<frozen importlib._bootstrap>\", line 1007, in _find_and_load\n",
            "  File \"<frozen importlib._bootstrap>\", line 986, in _find_and_load_unlocked\n",
            "  File \"<frozen importlib._bootstrap>\", line 680, in _load_unlocked\n",
            "  File \"<frozen importlib._bootstrap_external>\", line 846, in exec_module\n",
            "  File \"<frozen importlib._bootstrap_external>\", line 978, in get_code\n",
            "  File \"<frozen importlib._bootstrap_external>\", line 647, in _compile_bytecode\n",
            "KeyboardInterrupt\n",
            "^C\n"
          ]
        }
      ]
    },
    {
      "cell_type": "code",
      "source": [
        "!zip -r /content/audio.zip /content/audio"
      ],
      "metadata": {
        "colab": {
          "base_uri": "https://localhost:8080/"
        },
        "id": "rUpNWoqs7xgA",
        "outputId": "ed57bb72-24eb-499d-94c0-81e342ced99a"
      },
      "execution_count": null,
      "outputs": [
        {
          "output_type": "stream",
          "name": "stdout",
          "text": [
            "  adding: content/audio/ (stored 0%)\n",
            "  adding: content/audio/133.wav (deflated 5%)\n",
            "  adding: content/audio/109.wav (deflated 10%)\n",
            "  adding: content/audio/8.wav (deflated 3%)\n",
            "  adding: content/audio/142.wav (deflated 4%)\n",
            "  adding: content/audio/37.wav (deflated 0%)\n",
            "  adding: content/audio/62.wav (deflated 2%)\n",
            "  adding: content/audio/12.wav (deflated 24%)\n",
            "  adding: content/audio/110.wav (deflated 14%)\n",
            "  adding: content/audio/73.wav (deflated 19%)\n",
            "  adding: content/audio/196.wav (deflated 17%)\n",
            "  adding: content/audio/181.wav (deflated 6%)\n",
            "  adding: content/audio/166.wav (deflated 11%)\n",
            "  adding: content/audio/40.wav (deflated 45%)\n",
            "  adding: content/audio/111.wav (deflated 56%)\n",
            "  adding: content/audio/108.wav (deflated 20%)\n",
            "  adding: content/audio/117.wav (deflated 13%)\n",
            "  adding: content/audio/149.wav (deflated 6%)\n",
            "  adding: content/audio/157.wav (deflated 54%)\n",
            "  adding: content/audio/173.wav (deflated 19%)\n",
            "  adding: content/audio/23.wav (deflated 38%)\n",
            "  adding: content/audio/122.wav (deflated 16%)\n",
            "  adding: content/audio/151.wav (deflated 2%)\n",
            "  adding: content/audio/82.wav (deflated 6%)\n",
            "  adding: content/audio/113.wav (deflated 19%)\n",
            "  adding: content/audio/38.wav (deflated 15%)\n",
            "  adding: content/audio/118.wav (deflated 13%)\n",
            "  adding: content/audio/6.wav (deflated 6%)\n",
            "  adding: content/audio/137.wav (deflated 4%)\n",
            "  adding: content/audio/84.wav (deflated 27%)\n",
            "  adding: content/audio/55.wav (deflated 49%)\n",
            "  adding: content/audio/160.wav (deflated 26%)\n",
            "  adding: content/audio/129.wav (deflated 11%)\n",
            "  adding: content/audio/59.wav (deflated 27%)\n",
            "  adding: content/audio/143.wav (deflated 4%)\n",
            "  adding: content/audio/3.wav (deflated 5%)\n",
            "  adding: content/audio/182.wav (deflated 4%)\n",
            "  adding: content/audio/13.wav (deflated 6%)\n",
            "  adding: content/audio/46.wav (deflated 30%)\n",
            "  adding: content/audio/33.wav (deflated 10%)\n",
            "  adding: content/audio/186.wav (deflated 24%)\n",
            "  adding: content/audio/91.wav (deflated 9%)\n",
            "  adding: content/audio/21.wav (deflated 8%)\n",
            "  adding: content/audio/124.wav (deflated 17%)\n",
            "  adding: content/audio/25.wav (deflated 29%)\n",
            "  adding: content/audio/34.wav (deflated 14%)\n",
            "  adding: content/audio/193.wav (deflated 7%)\n",
            "  adding: content/audio/79.wav (deflated 4%)\n",
            "  adding: content/audio/156.wav (deflated 5%)\n",
            "  adding: content/audio/155.wav (deflated 10%)\n",
            "  adding: content/audio/134.wav (deflated 10%)\n",
            "  adding: content/audio/169.wav (deflated 8%)\n",
            "  adding: content/audio/35.wav (deflated 4%)\n",
            "  adding: content/audio/80.wav (deflated 15%)\n",
            "  adding: content/audio/97.wav (deflated 10%)\n",
            "  adding: content/audio/39.wav (deflated 16%)\n",
            "  adding: content/audio/126.wav (deflated 13%)\n",
            "  adding: content/audio/22.wav (deflated 100%)\n",
            "  adding: content/audio/132.wav (deflated 9%)\n",
            "  adding: content/audio/175.wav (deflated 21%)\n",
            "  adding: content/audio/54.wav (deflated 14%)\n",
            "  adding: content/audio/190.wav (deflated 3%)\n",
            "  adding: content/audio/187.wav (deflated 14%)\n",
            "  adding: content/audio/115.wav (deflated 19%)\n",
            "  adding: content/audio/184.wav (deflated 5%)\n",
            "  adding: content/audio/18.wav (deflated 10%)\n",
            "  adding: content/audio/136.wav (deflated 29%)\n",
            "  adding: content/audio/125.wav (deflated 4%)\n",
            "  adding: content/audio/172.wav (deflated 16%)\n",
            "  adding: content/audio/58.wav (deflated 29%)\n",
            "  adding: content/audio/43.wav (deflated 91%)\n",
            "  adding: content/audio/95.wav (deflated 26%)\n",
            "  adding: content/audio/69.wav (deflated 9%)\n",
            "  adding: content/audio/103.wav (deflated 27%)\n",
            "  adding: content/audio/85.wav (deflated 28%)\n",
            "  adding: content/audio/199.wav (deflated 5%)\n",
            "  adding: content/audio/48.wav (deflated 7%)\n",
            "  adding: content/audio/178.wav (deflated 7%)\n",
            "  adding: content/audio/152.wav (deflated 12%)\n",
            "  adding: content/audio/66.wav (deflated 17%)\n",
            "  adding: content/audio/24.wav (deflated 100%)\n",
            "  adding: content/audio/87.wav (deflated 15%)\n",
            "  adding: content/audio/29.wav (deflated 16%)\n",
            "  adding: content/audio/171.wav (deflated 14%)\n",
            "  adding: content/audio/158.wav (deflated 12%)\n",
            "  adding: content/audio/144.wav (deflated 3%)\n",
            "  adding: content/audio/77.wav (deflated 12%)\n",
            "  adding: content/audio/119.wav (deflated 6%)\n",
            "  adding: content/audio/107.wav (deflated 12%)\n",
            "  adding: content/audio/94.wav (deflated 4%)\n",
            "  adding: content/audio/76.wav (deflated 3%)\n",
            "  adding: content/audio/106.wav (deflated 2%)\n",
            "  adding: content/audio/64.wav (deflated 19%)\n",
            "  adding: content/audio/20.wav (deflated 13%)\n",
            "  adding: content/audio/17.wav (deflated 29%)\n",
            "  adding: content/audio/16.wav (deflated 28%)\n",
            "  adding: content/audio/180.wav (deflated 20%)\n",
            "  adding: content/audio/7.wav (deflated 3%)\n",
            "  adding: content/audio/194.wav (deflated 36%)\n",
            "  adding: content/audio/191.wav (deflated 14%)\n",
            "  adding: content/audio/167.wav (deflated 13%)\n",
            "  adding: content/audio/198.wav (deflated 4%)\n",
            "  adding: content/audio/130.wav (deflated 16%)\n",
            "  adding: content/audio/70.wav (deflated 9%)\n",
            "  adding: content/audio/138.wav (deflated 16%)\n",
            "  adding: content/audio/163.wav (deflated 12%)\n",
            "  adding: content/audio/148.wav (deflated 10%)\n",
            "  adding: content/audio/154.wav (deflated 17%)\n",
            "  adding: content/audio/72.wav (deflated 15%)\n",
            "  adding: content/audio/146.wav (deflated 16%)\n",
            "  adding: content/audio/170.wav (deflated 14%)\n",
            "  adding: content/audio/68.wav (deflated 28%)\n",
            "  adding: content/audio/164.wav (deflated 12%)\n",
            "  adding: content/audio/14.wav (deflated 18%)\n",
            "  adding: content/audio/153.wav (deflated 8%)\n",
            "  adding: content/audio/42.wav (deflated 12%)\n",
            "  adding: content/audio/53.wav (deflated 16%)\n",
            "  adding: content/audio/26.wav (deflated 6%)\n",
            "  adding: content/audio/27.wav (deflated 5%)\n",
            "  adding: content/audio/28.wav (deflated 3%)\n",
            "  adding: content/audio/105.wav (deflated 15%)\n",
            "  adding: content/audio/31.wav (deflated 21%)\n",
            "  adding: content/audio/165.wav (deflated 4%)\n",
            "  adding: content/audio/141.wav (deflated 17%)\n",
            "  adding: content/audio/41.wav (deflated 28%)\n",
            "  adding: content/audio/128.wav (deflated 20%)\n",
            "  adding: content/audio/78.wav (deflated 9%)\n",
            "  adding: content/audio/50.wav (deflated 3%)\n",
            "  adding: content/audio/101.wav (deflated 4%)\n",
            "  adding: content/audio/5.wav (deflated 29%)\n",
            "  adding: content/audio/10.wav (deflated 3%)\n",
            "  adding: content/audio/90.wav (deflated 20%)\n",
            "  adding: content/audio/183.wav (deflated 19%)\n",
            "  adding: content/audio/52.wav (deflated 31%)\n",
            "  adding: content/audio/98.wav (deflated 15%)\n",
            "  adding: content/audio/57.wav (deflated 20%)\n",
            "  adding: content/audio/114.wav (deflated 12%)\n",
            "  adding: content/audio/61.wav (deflated 7%)\n",
            "  adding: content/audio/88.wav (deflated 10%)\n",
            "  adding: content/audio/131.wav (deflated 10%)\n",
            "  adding: content/audio/161.wav (deflated 10%)\n",
            "  adding: content/audio/4.wav (deflated 28%)\n",
            "  adding: content/audio/60.wav (deflated 16%)\n",
            "  adding: content/audio/185.wav (deflated 3%)\n",
            "  adding: content/audio/2.wav (deflated 20%)\n",
            "  adding: content/audio/63.wav (deflated 4%)\n",
            "  adding: content/audio/195.wav (deflated 22%)\n",
            "  adding: content/audio/179.wav (deflated 7%)\n",
            "  adding: content/audio/89.wav (deflated 13%)\n",
            "  adding: content/audio/162.wav (deflated 10%)\n",
            "  adding: content/audio/123.wav (deflated 7%)\n",
            "  adding: content/audio/150.wav (deflated 17%)\n",
            "  adding: content/audio/45.wav (deflated 5%)\n",
            "  adding: content/audio/44.wav (deflated 3%)\n"
          ]
        }
      ]
    },
    {
      "cell_type": "code",
      "source": [
        "!python3 riffusion-manipulation/img2audio.py -i /content/output/300.jpg -o /content/songINFER.wav"
      ],
      "metadata": {
        "id": "SSCg8CKslVM7"
      },
      "execution_count": null,
      "outputs": []
    },
    {
      "cell_type": "code",
      "source": [
        "from google.colab import files\n",
        "files.download(\"/content/audio.zip\")"
      ],
      "metadata": {
        "colab": {
          "base_uri": "https://localhost:8080/",
          "height": 34
        },
        "id": "iH0AY7TYlcoO",
        "outputId": "1e1c6ce5-9e56-4be1-f1bb-98d57c35896c"
      },
      "execution_count": null,
      "outputs": [
        {
          "output_type": "display_data",
          "data": {
            "text/plain": [
              "<IPython.core.display.Javascript object>"
            ],
            "application/javascript": [
              "\n",
              "    async function download(id, filename, size) {\n",
              "      if (!google.colab.kernel.accessAllowed) {\n",
              "        return;\n",
              "      }\n",
              "      const div = document.createElement('div');\n",
              "      const label = document.createElement('label');\n",
              "      label.textContent = `Downloading \"${filename}\": `;\n",
              "      div.appendChild(label);\n",
              "      const progress = document.createElement('progress');\n",
              "      progress.max = size;\n",
              "      div.appendChild(progress);\n",
              "      document.body.appendChild(div);\n",
              "\n",
              "      const buffers = [];\n",
              "      let downloaded = 0;\n",
              "\n",
              "      const channel = await google.colab.kernel.comms.open(id);\n",
              "      // Send a message to notify the kernel that we're ready.\n",
              "      channel.send({})\n",
              "\n",
              "      for await (const message of channel.messages) {\n",
              "        // Send a message to notify the kernel that we're ready.\n",
              "        channel.send({})\n",
              "        if (message.buffers) {\n",
              "          for (const buffer of message.buffers) {\n",
              "            buffers.push(buffer);\n",
              "            downloaded += buffer.byteLength;\n",
              "            progress.value = downloaded;\n",
              "          }\n",
              "        }\n",
              "      }\n",
              "      const blob = new Blob(buffers, {type: 'application/binary'});\n",
              "      const a = document.createElement('a');\n",
              "      a.href = window.URL.createObjectURL(blob);\n",
              "      a.download = filename;\n",
              "      div.appendChild(a);\n",
              "      a.click();\n",
              "      div.remove();\n",
              "    }\n",
              "  "
            ]
          },
          "metadata": {}
        },
        {
          "output_type": "display_data",
          "data": {
            "text/plain": [
              "<IPython.core.display.Javascript object>"
            ],
            "application/javascript": [
              "download(\"download_d19405b4-a9e1-4d8b-8d53-c82716f85e1c\", \"audio.zip\", 58051242)"
            ]
          },
          "metadata": {}
        }
      ]
    },
    {
      "cell_type": "code",
      "source": [],
      "metadata": {
        "id": "tuBGqvVP8un6"
      },
      "execution_count": null,
      "outputs": []
    }
  ]
}